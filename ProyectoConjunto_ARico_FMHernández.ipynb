{
 "cells": [
  {
   "cell_type": "markdown",
   "metadata": {},
   "source": [
    "<img style=\"float: left; margin: 30px 15px 15px 15px;\" src=\"https://pngimage.net/wp-content/uploads/2018/06/logo-iteso-png-5.png\" width=\"300\" height=\"500\" /> \n",
    "    \n",
    "    \n",
    "### <font color='navy'> Simulación de procesos financieros. \n",
    "\n",
    "**Nombres:** Alejandra Rico Rosales, Frida María Hernández López.\n",
    "\n",
    "**Fecha:** 31 de agosto del 2021.\n",
    "\n",
    "**Expediente** : 720838,720476\n",
    "    \n",
    "**Profesor:** Oscar David Jaramillo Zuluaga.\n",
    "    \n",
    "**Link Github**: https://github.com/alerrico/ProyectoConjunto_ARico_FMHernandez\n",
    "\n",
    "# Tarea 1 - Git: Clase 2"
   ]
  },
  {
   "cell_type": "markdown",
   "metadata": {},
   "source": [
    "## Instrucciones tarea\n",
    "> ### Recuerden que en canvas se encuntra el archivo Plantilla tareas, en donde deben de solucionar todas sus tareas.\n",
    "\n",
    "Este archivo contiene las pautas necesarias para crear el archivo conjunto en Github, usando los notebooks de Jupyter:\n",
    "\n",
    "1.  El archivo debe realizarse en parejas y sólo uno de los dos debe crear en su cuenta de *Github* un repositorio con el nombre **ProyectoConjunto\\_APELLIDO1\\_APELLIDO2**. A la persona que creó el repositorio la llamaremos (ESTUDIANTE 1 ). El APELLIDO se debe de escribir (Iniciales del nombre y primer apellido), por ejemplo si yo creara el archivo lo debería de nombrar *ProyectoConjunto\\_ODJaramillo*. \n",
    "1.  Posteriormente, desde la cuenta del (ESTUDIANTE 2), 'aquel que no creó el repositorio anterior', ingresar al perfil del ESTUDIANTE 1 y en el repositorio creado en el paso 1, realizar un \"fork\" de este repositorio en su perfil, y además realizar los pasos en Gitkraken para hacer dicho repositorio \"Remoto (REMOTE)\" VER DICHO PROCEDIMIENTO EN LA CLASE **Clase2_GitTurorial2**.\n",
    "1.  Luego de realizados los pasos 1 y 2, el ESTUDIANTE 1 y ESTUDIANTE 2, desde su computador realizar un *clone* del repositorio creado en el numeral 1 en la carpeta que cada quién haya asignado para el curso en su computador. \n",
    "1.  Luego desde Jupyter el ESTUDIANTE 1, crea un nuevo ``notebook`` en el repositorio del paso 3. \n",
    "1.  En este nuevo notebook el ESTUDIANTE 1 y ESTUDIANTE 2, deben realizar una presentación describiendo sus expectativas del curso y la transcipción de la Figura 1 y Figura 2 respectivamente, haciendo uso de la sintaxis Markdown. Recuerden definir unas celdas donde cada usuario modificará el cuaderno de python para evitar futuros conflictos. \n",
    "\n",
    "**RECOMENDACIÓN:ANTES DE EMPEZAR A REALIZAR MUCHAS MODIFICACIONES DEL NOTEBOOK PRIMERO REALICEN CAMBIOS PEQUEÑOS EN EL ARCHIVO EN CONJUNTO Y VERIFIQUEN SI TANTO EL ``ESTUDIANTE 1`` COMO EL ``ESTUDIANTE 2``  RECIBEN LAS ACTUALIZACIONES QUE REALIZAN CADA UNO EN EL PROYECTO PARA VERIFICAR QUE EL REMOTE ESTUVO BIEN CONFIGURADO.**\n",
    "> Les recomiendo ver los siguientes enlaces para ver distintas funciones para escribir en markdown.\n",
    ">    - [Creador de tablas online](https://www.tablesgenerator.com/markdown_tables)\n",
    ">    - [Sintáxis markdown](https://joplinapp.org/markdown/)\n",
    "\n",
    "6. Cuando ya se encuentre el proyecto conjunto con la información del ESTUDIANTE 1 y ESTUDIANTE 2, el ``ESTUDIANTE 2``  debe de realizar un `pull request` con las modificaciones realizadas a el `ESTUDIANTE 1` para que este realice un merge a la rama `master`, con las moficaciones propuestas por el `ESTUDIANTE 2`, TAL Y CÓMO SE REALIZÓ EN CLASE. (Recuerden que los pull request se generan en *Gitkraken* y se administran los comentarios o cambios propuestos por su compañero desde *Github* ver `Clase1_GitTurorial` para aclaración de dudas, donde se explica cómo crear *branch y pull request*)"
   ]
  },
  {
   "cell_type": "markdown",
   "metadata": {},
   "source": [
    "# Parte 1. Expectativas del curso"
   ]
  },
  {
   "cell_type": "markdown",
   "metadata": {},
   "source": [
    "### Expectativas del curso: Alejandra Rico"
   ]
  },
  {
   "cell_type": "markdown",
   "metadata": {},
   "source": [
    "### Expectativas del curso: Frida Hernández \n",
    "\n",
    "Durante lo que llevo recorrido en la carrera de Ingeniería Financiera, es común escuchar hablar a personas de semestres arriba sobre materias difíciles y exámenes imposibles. Esta materia no ha sido la excepción, pero me emociona mucho el empezar a combinar los diferentes aprendizajes que tuve en semestres anteriores, como lo es la programación de códigos que simulen diferentes escenarios financieros, algo como lo que vimos en simulación matemática pero mucho más aterrizados y aplicados a la carrera, gracias a los aprendizajes obtenidos durante los ultimos semestres en materias como Ingerniería Financiera y Portafolios de Inversión.\n",
    "\n",
    "No espero que la materia sea fácil, sin embargo, si espero que sea una clase que me deje muchas enseñanzas aplicables a mi vida profesional, tales como:\n",
    "\n",
    ">    - Valuación de Opciones\n",
    ">    - Simulaciones MonteCarlo"
   ]
  },
  {
   "cell_type": "markdown",
   "metadata": {},
   "source": [
    "# Parte 2. Transcripción de Figuras"
   ]
  },
  {
   "cell_type": "markdown",
   "metadata": {},
   "source": [
    "<font color=blue>Kemna y Vorst (1990)</font> muestran que las opciones asiáticas con media geométrica continua se pueden valuar con el mismo enfoque de las opciones *plain vanilla*; solo se deben cambiar los parámetros de volatilidad $\\sigma$ por $\\sigma_\\alpha$ y el costo de acarreo *b* por *b*$_A$.\n",
    "\n",
    "De acuerdo con Kemna y Vorst, las fórmulas para valuar una opción de compra y una opción de venta son:\n",
    "\n",
    "$          c≈S_{t}e^{(b_A-r)(T-t)}\\phi(d_1)-Ke^{-r(T-t)}\\phi(d_2),$\n",
    "\n",
    "$          p≈Ke^{-r(T-t)}\\phi(-d_2)-S_{t}e^{(b_A-r)(T-t)}\\phi(-d_1).$\n",
    "\n",
    "\n",
    "con $d_1$ y $d_2$ dados por:\n",
    "\n",
    "$d_1=\\frac{ln(S_t-K)+(b_A+1/2\\sigma^2_\\alpha)(T-t)}{\\alpha\\sqrt{T-t}}$\n",
    "\n",
    "$d_2=d_1-\\sigma_\\alpha\\sqrt{T-t}$\n",
    "\n",
    "La función $\\phi(d)$ es la función de distribución acumulada de *E~N(0,1)*. La volatilidad ajustada es igual a:\n",
    "\n",
    "$\\sigma_\\alpha=\\frac{\\sigma}{\\sqrt{3}},$\n",
    "\n",
    "mientras que el costo de acarreo ajustado es:\n",
    "\n",
    "$b_A=\\frac{1}{2}(v-\\frac{\\sigma^2}{6}).$"
   ]
  }
 ],
 "metadata": {
  "kernelspec": {
   "display_name": "Python 3",
   "language": "python",
   "name": "python3"
  },
  "language_info": {
   "codemirror_mode": {
    "name": "ipython",
    "version": 3
   },
   "file_extension": ".py",
   "mimetype": "text/x-python",
   "name": "python",
   "nbconvert_exporter": "python",
   "pygments_lexer": "ipython3",
   "version": "3.8.3"
  }
 },
 "nbformat": 4,
 "nbformat_minor": 4
}
